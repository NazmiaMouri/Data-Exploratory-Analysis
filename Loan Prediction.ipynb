{
 "cells": [
  {
   "cell_type": "code",
   "execution_count": 152,
   "metadata": {},
   "outputs": [],
   "source": [
    "import pandas as pd\n",
    "import numpy as np \n",
    "import matplotlib.pyplot as plt \n",
    "\n"
   ]
  },
  {
   "cell_type": "code",
   "execution_count": 153,
   "metadata": {},
   "outputs": [],
   "source": [
    "df = pd.read_csv(\"train_loan.csv\") "
   ]
  },
  {
   "cell_type": "markdown",
   "metadata": {},
   "source": [
    "# Data Exploratory Analysis"
   ]
  },
  {
   "cell_type": "code",
   "execution_count": 154,
   "metadata": {},
   "outputs": [
    {
     "data": {
      "text/html": [
       "<div>\n",
       "<style scoped>\n",
       "    .dataframe tbody tr th:only-of-type {\n",
       "        vertical-align: middle;\n",
       "    }\n",
       "\n",
       "    .dataframe tbody tr th {\n",
       "        vertical-align: top;\n",
       "    }\n",
       "\n",
       "    .dataframe thead th {\n",
       "        text-align: right;\n",
       "    }\n",
       "</style>\n",
       "<table border=\"1\" class=\"dataframe\">\n",
       "  <thead>\n",
       "    <tr style=\"text-align: right;\">\n",
       "      <th></th>\n",
       "      <th>Loan_ID</th>\n",
       "      <th>Gender</th>\n",
       "      <th>Married</th>\n",
       "      <th>Dependents</th>\n",
       "      <th>Education</th>\n",
       "      <th>Self_Employed</th>\n",
       "      <th>ApplicantIncome</th>\n",
       "      <th>CoapplicantIncome</th>\n",
       "      <th>LoanAmount</th>\n",
       "      <th>Loan_Amount_Term</th>\n",
       "      <th>Credit_History</th>\n",
       "      <th>Property_Area</th>\n",
       "      <th>Loan_Status</th>\n",
       "    </tr>\n",
       "  </thead>\n",
       "  <tbody>\n",
       "    <tr>\n",
       "      <td>0</td>\n",
       "      <td>LP001002</td>\n",
       "      <td>Male</td>\n",
       "      <td>No</td>\n",
       "      <td>0</td>\n",
       "      <td>Graduate</td>\n",
       "      <td>No</td>\n",
       "      <td>5849</td>\n",
       "      <td>0.0</td>\n",
       "      <td>NaN</td>\n",
       "      <td>360.0</td>\n",
       "      <td>1.0</td>\n",
       "      <td>Urban</td>\n",
       "      <td>Y</td>\n",
       "    </tr>\n",
       "    <tr>\n",
       "      <td>1</td>\n",
       "      <td>LP001003</td>\n",
       "      <td>Male</td>\n",
       "      <td>Yes</td>\n",
       "      <td>1</td>\n",
       "      <td>Graduate</td>\n",
       "      <td>No</td>\n",
       "      <td>4583</td>\n",
       "      <td>1508.0</td>\n",
       "      <td>128.0</td>\n",
       "      <td>360.0</td>\n",
       "      <td>1.0</td>\n",
       "      <td>Rural</td>\n",
       "      <td>N</td>\n",
       "    </tr>\n",
       "    <tr>\n",
       "      <td>2</td>\n",
       "      <td>LP001005</td>\n",
       "      <td>Male</td>\n",
       "      <td>Yes</td>\n",
       "      <td>0</td>\n",
       "      <td>Graduate</td>\n",
       "      <td>Yes</td>\n",
       "      <td>3000</td>\n",
       "      <td>0.0</td>\n",
       "      <td>66.0</td>\n",
       "      <td>360.0</td>\n",
       "      <td>1.0</td>\n",
       "      <td>Urban</td>\n",
       "      <td>Y</td>\n",
       "    </tr>\n",
       "    <tr>\n",
       "      <td>3</td>\n",
       "      <td>LP001006</td>\n",
       "      <td>Male</td>\n",
       "      <td>Yes</td>\n",
       "      <td>0</td>\n",
       "      <td>Not Graduate</td>\n",
       "      <td>No</td>\n",
       "      <td>2583</td>\n",
       "      <td>2358.0</td>\n",
       "      <td>120.0</td>\n",
       "      <td>360.0</td>\n",
       "      <td>1.0</td>\n",
       "      <td>Urban</td>\n",
       "      <td>Y</td>\n",
       "    </tr>\n",
       "    <tr>\n",
       "      <td>4</td>\n",
       "      <td>LP001008</td>\n",
       "      <td>Male</td>\n",
       "      <td>No</td>\n",
       "      <td>0</td>\n",
       "      <td>Graduate</td>\n",
       "      <td>No</td>\n",
       "      <td>6000</td>\n",
       "      <td>0.0</td>\n",
       "      <td>141.0</td>\n",
       "      <td>360.0</td>\n",
       "      <td>1.0</td>\n",
       "      <td>Urban</td>\n",
       "      <td>Y</td>\n",
       "    </tr>\n",
       "  </tbody>\n",
       "</table>\n",
       "</div>"
      ],
      "text/plain": [
       "    Loan_ID Gender Married Dependents     Education Self_Employed  \\\n",
       "0  LP001002   Male      No          0      Graduate            No   \n",
       "1  LP001003   Male     Yes          1      Graduate            No   \n",
       "2  LP001005   Male     Yes          0      Graduate           Yes   \n",
       "3  LP001006   Male     Yes          0  Not Graduate            No   \n",
       "4  LP001008   Male      No          0      Graduate            No   \n",
       "\n",
       "   ApplicantIncome  CoapplicantIncome  LoanAmount  Loan_Amount_Term  \\\n",
       "0             5849                0.0         NaN             360.0   \n",
       "1             4583             1508.0       128.0             360.0   \n",
       "2             3000                0.0        66.0             360.0   \n",
       "3             2583             2358.0       120.0             360.0   \n",
       "4             6000                0.0       141.0             360.0   \n",
       "\n",
       "   Credit_History Property_Area Loan_Status  \n",
       "0             1.0         Urban           Y  \n",
       "1             1.0         Rural           N  \n",
       "2             1.0         Urban           Y  \n",
       "3             1.0         Urban           Y  \n",
       "4             1.0         Urban           Y  "
      ]
     },
     "execution_count": 154,
     "metadata": {},
     "output_type": "execute_result"
    }
   ],
   "source": [
    "df.head()"
   ]
  },
  {
   "cell_type": "code",
   "execution_count": 155,
   "metadata": {},
   "outputs": [
    {
     "data": {
      "text/html": [
       "<div>\n",
       "<style scoped>\n",
       "    .dataframe tbody tr th:only-of-type {\n",
       "        vertical-align: middle;\n",
       "    }\n",
       "\n",
       "    .dataframe tbody tr th {\n",
       "        vertical-align: top;\n",
       "    }\n",
       "\n",
       "    .dataframe thead th {\n",
       "        text-align: right;\n",
       "    }\n",
       "</style>\n",
       "<table border=\"1\" class=\"dataframe\">\n",
       "  <thead>\n",
       "    <tr style=\"text-align: right;\">\n",
       "      <th></th>\n",
       "      <th>ApplicantIncome</th>\n",
       "      <th>CoapplicantIncome</th>\n",
       "      <th>LoanAmount</th>\n",
       "      <th>Loan_Amount_Term</th>\n",
       "      <th>Credit_History</th>\n",
       "    </tr>\n",
       "  </thead>\n",
       "  <tbody>\n",
       "    <tr>\n",
       "      <td>count</td>\n",
       "      <td>614.000000</td>\n",
       "      <td>614.000000</td>\n",
       "      <td>592.000000</td>\n",
       "      <td>600.00000</td>\n",
       "      <td>564.000000</td>\n",
       "    </tr>\n",
       "    <tr>\n",
       "      <td>mean</td>\n",
       "      <td>5403.459283</td>\n",
       "      <td>1621.245798</td>\n",
       "      <td>146.412162</td>\n",
       "      <td>342.00000</td>\n",
       "      <td>0.842199</td>\n",
       "    </tr>\n",
       "    <tr>\n",
       "      <td>std</td>\n",
       "      <td>6109.041673</td>\n",
       "      <td>2926.248369</td>\n",
       "      <td>85.587325</td>\n",
       "      <td>65.12041</td>\n",
       "      <td>0.364878</td>\n",
       "    </tr>\n",
       "    <tr>\n",
       "      <td>min</td>\n",
       "      <td>150.000000</td>\n",
       "      <td>0.000000</td>\n",
       "      <td>9.000000</td>\n",
       "      <td>12.00000</td>\n",
       "      <td>0.000000</td>\n",
       "    </tr>\n",
       "    <tr>\n",
       "      <td>25%</td>\n",
       "      <td>2877.500000</td>\n",
       "      <td>0.000000</td>\n",
       "      <td>100.000000</td>\n",
       "      <td>360.00000</td>\n",
       "      <td>1.000000</td>\n",
       "    </tr>\n",
       "    <tr>\n",
       "      <td>50%</td>\n",
       "      <td>3812.500000</td>\n",
       "      <td>1188.500000</td>\n",
       "      <td>128.000000</td>\n",
       "      <td>360.00000</td>\n",
       "      <td>1.000000</td>\n",
       "    </tr>\n",
       "    <tr>\n",
       "      <td>75%</td>\n",
       "      <td>5795.000000</td>\n",
       "      <td>2297.250000</td>\n",
       "      <td>168.000000</td>\n",
       "      <td>360.00000</td>\n",
       "      <td>1.000000</td>\n",
       "    </tr>\n",
       "    <tr>\n",
       "      <td>max</td>\n",
       "      <td>81000.000000</td>\n",
       "      <td>41667.000000</td>\n",
       "      <td>700.000000</td>\n",
       "      <td>480.00000</td>\n",
       "      <td>1.000000</td>\n",
       "    </tr>\n",
       "  </tbody>\n",
       "</table>\n",
       "</div>"
      ],
      "text/plain": [
       "       ApplicantIncome  CoapplicantIncome  LoanAmount  Loan_Amount_Term  \\\n",
       "count       614.000000         614.000000  592.000000         600.00000   \n",
       "mean       5403.459283        1621.245798  146.412162         342.00000   \n",
       "std        6109.041673        2926.248369   85.587325          65.12041   \n",
       "min         150.000000           0.000000    9.000000          12.00000   \n",
       "25%        2877.500000           0.000000  100.000000         360.00000   \n",
       "50%        3812.500000        1188.500000  128.000000         360.00000   \n",
       "75%        5795.000000        2297.250000  168.000000         360.00000   \n",
       "max       81000.000000       41667.000000  700.000000         480.00000   \n",
       "\n",
       "       Credit_History  \n",
       "count      564.000000  \n",
       "mean         0.842199  \n",
       "std          0.364878  \n",
       "min          0.000000  \n",
       "25%          1.000000  \n",
       "50%          1.000000  \n",
       "75%          1.000000  \n",
       "max          1.000000  "
      ]
     },
     "execution_count": 155,
     "metadata": {},
     "output_type": "execute_result"
    }
   ],
   "source": [
    "df.describe()"
   ]
  },
  {
   "cell_type": "code",
   "execution_count": 156,
   "metadata": {},
   "outputs": [
    {
     "data": {
      "text/plain": [
       "Semiurban    233\n",
       "Urban        202\n",
       "Rural        179\n",
       "Name: Property_Area, dtype: int64"
      ]
     },
     "execution_count": 156,
     "metadata": {},
     "output_type": "execute_result"
    }
   ],
   "source": [
    "df['Property_Area'].value_counts()"
   ]
  },
  {
   "cell_type": "code",
   "execution_count": 157,
   "metadata": {},
   "outputs": [
    {
     "data": {
      "text/plain": [
       "array([[<matplotlib.axes._subplots.AxesSubplot object at 0x0000000A9D98A788>,\n",
       "        <matplotlib.axes._subplots.AxesSubplot object at 0x0000000AA77EA888>],\n",
       "       [<matplotlib.axes._subplots.AxesSubplot object at 0x0000000A9D8DDC08>,\n",
       "        <matplotlib.axes._subplots.AxesSubplot object at 0x0000000A9C4B0BC8>],\n",
       "       [<matplotlib.axes._subplots.AxesSubplot object at 0x0000000A9D8E5848>,\n",
       "        <matplotlib.axes._subplots.AxesSubplot object at 0x0000000A9C53FD48>]],\n",
       "      dtype=object)"
      ]
     },
     "execution_count": 157,
     "metadata": {},
     "output_type": "execute_result"
    },
    {
     "data": {
      "image/png": "iVBORw0KGgoAAAANSUhEUgAAAlYAAANeCAYAAADQgUDGAAAABHNCSVQICAgIfAhkiAAAAAlwSFlzAAALEgAACxIB0t1+/AAAADh0RVh0U29mdHdhcmUAbWF0cGxvdGxpYiB2ZXJzaW9uMy4xLjEsIGh0dHA6Ly9tYXRwbG90bGliLm9yZy8QZhcZAAAgAElEQVR4nOzde5hlVX3n//dHmpuANojWIBAbIzFiiKg9ijGXGjER0Qj5jRoJUTBkOvMbTEzsRNvEiWYSE8yIeInRdMQAEQVCNBAxiQyhxphRVJSAiA4tttCAIHLRxnhp/c4fe5ecLupyqmpXn0u9X89znjp77XX2/q5z+qz+nrXX3jtVhSRJkpbvQYMOQJIkaVyYWEmSJHXExEqSJKkjJlaSJEkdMbGSJEnqiImVJElSR0ysVrEkpyT5aM/y9iSPHmRMkjQISV6X5D3t8x9q+8PdBh2XRo+J1QhJMpXk7iR7rsT2q2rfqrpxJbY9LUkleUzP8mSSbSu5T0nDJ8kvJflUm8DcluQfkvzkoOMCqKqb2v7weyu1jyTr2v5wTU/ZTj92NZpMrEZEknXATwEFPG+gwUjSMiR5BfBm4I+BCeCHgD8Hjh9kXFIXTKxGx0uAjwNnAydPFyY5O8k7k1yW5BtJ/neSR/WsryS/keTGJHcm+Z9JZv3ce0eTkuyd5IwkX05yb5KPJtm7Xfc3Sb7Sln8kyeNnxPP2JJe28VyZ5IfbdR9pq/1b+yv1F2eJYSrJHyb51/b1H05yYM/6n0zyf5Lck+TmJKe05Q9Ncm6Sr7Yxv2a6ne2vwH9Ncmb7uhuT/ERbfnOSO5L0vqd7JnljkpuS3N6+v3sv9gOT9EBJHgr8D+C0qnp/Vd1XVd+tqr+vqt9pv39vTnJr+3jz9Ch9kv2TfLD9nt/dPj+kZ9tTSf4kySfa/uniJAe066ZHiDa0270tycY5YtxpNCnJAUn+qn3d3Un+bhHxzNWfTfeH97T94dNmiWNrkt9Ock3bnguS7NWz/vgkVyf5epIvJjm2LX9kkkuS3JVkS5L/0vOa17V9+HvamK5N8iNJXt32hTcn+bnezyvJWe37dUuSP4qHSOdlYjU6XgKc1z6elWSiZ91JwB8CBwJXt3V6/QKwHngSzS/CX+ljf28Engz8BHAA8Erg++26fwAOBx4BfHqW/Z0I/AGwP7AFeD1AVf10u/4J7TD7BXPs+5eAl7bb3wP4bWjmPbT7fhvwcOCotr20ZQ8FHg38DM379dKebT4VuAZ4GPBe4HzgPwKPAX4Z+LMk+7Z13wD8SLv9xwAHA78/R6ySFudpwF7AB+ZY/3vA0TTfvycATwFe0657EPBXwKNoRrn+HfizGa9/CU0f90hgB/DWGev/E03/9XPApiTP7CPmvwYeDDyepl86cxHxzNqfAdP94dq2P/zYHPt+IXAscBjw48ApAEmeApwL/A6wtt3e1vY17wO20bwHzwf+OMkxPdv8+bZN+wOfAf6pbcvBNEnvX/TUPYfmfXwM8ESa9+1X54hVAFXlY8gfwE8C3wUObJc/D/xW+/xs4PyeuvsC3wMObZcLOLZn/X8DLm+fnwJ8tGdd0Xx5HkTTQTyhj9jWtq97aE887+pZfxzw+Zn76FmeBLb1LE8Br5kR7z+2z18NfGCWGHYDvg0c0VP2a8BUTztv6Fl3ZBvHRE/Z12g68gD3AT/cs+5pwJcG/e/Ah49xeND8EPzKPOu/CBzXs/wsYOscdY8C7u5ZngJO71k+AvhO20esa7/3P9qz/k+Bs9rnrwPe0z6frrsGOIjmR+X+fbRttnjm6s9+sI+e9TP75K3AL8+I953t878AzpwlhkNp/g/Yr6fsT4Cze9p5Wc+6nwe2A7u1y/u1ca2lOUz7bWDvnvonAlcM+t/RMD9+MGlOQ+1k4MNVdWe7/N62bPpX083TFatqe5K7aH6p3DxzPfDldt18DqT5RfnFmSvaIeDXAy+gGTX6fs9r7m2ff6XnJd+kSfYWY67XHzpbTO2+96Bp27Qv0/z6mnZ7z/N/B6iqmWX70rTpwcBVSabXhaZjlrR8XwMOTLKmqnbMsv6RPPC7/EiAJA+m6feOpRltAdgvyW51/0Tzmf3d7jR9BHOsP3KBeA8F7qqqu2eu6DOervvD6f77UOBDs9R/ZBvvN3rKvkxz1GLazL7vzp54/739u2+7rd2B23r6wwex83uoGTwUOOTauT0vBH4mzbymrwC/BTwhyRPaaof21N+X5tDdrT2bObTn+Q/NWDebO4FvAT88y7pfojmc+EyaQ2/rpnfdT3uW6eY5YrqTZkTvUT1lPwTcsoR93EnTsTy+qta2j4dW1WI7Q0mz+xhN/3LCHOtv5YHf5ek+ayPwWOCpVfUQ7j+c1tv/zOzvvkvzvZ5r/UL94c3AAUnWzrKun3jmUn3UWSiu2frDW2ni3a+nbKn94c00I1YH9vSHD6mqxy/0wtXMxGr4nUAzrHsEzTDzUcDjgH+hmUsAcFyaSd170My1urKqen9R/E47yfJQ4OXAXHObAKiq7wPvBt7UToLcLcnT2gmk+9F80b5GM7Lzx4tsz+0086CW4jzgmUlemGRNkoclOar9pXUh8Pok+6WZvP8K4D2L3UHb9r8EzkzyCIAkByd51hJjltSjqu6lmbP49iQnJHlwkt2TPDvJn9LMD3pNkoe3E71/n/u/y/vR/PC5p52U/tpZdvHLSY5oR5P+B3BR7XzZhP/e7vPxNHOfFuoPb6OZ2/nnbT+6e5LpBKqfeObyVZoR/6X2h2cBL01yTJIHtf3Uj7Z9//8B/iTJXkl+HDiVB86FXVDb9g8DZyR5SLufH07yM0uMeVUwsRp+JwN/Vc11Vb4y/aCZIHkSzRyA99J8oe+imXB+0oxtXAxcRTPR+1KaL+RCfhu4Fvhku9030Px7OZdmWPkW4HM0ZyouxuuAc9KcnffCxbywqm6imbO1sY3paprJrQC/TjM36kbgozTvybsXGdu0V9FMuv94kq8D/4vmV6mkDlTVm2h+/LyGJsG4GXgZ8HfAHwGfojnZ5FqaE2T+qH3pm4G9aUagPg784yyb/2uauZ5foZnS8Bsz1v9vmu/35cAbq+rDfYT8YpqRr88DdwC/uYh4ZlVV36SZVvGvbX94dL+vbV//CZrE8EyaaRj/m/tH+k6kOZpwK81JAq+tqssWs/0eL6GZavE54G7gIpp5Z5pD2sloGlFJzqaZ/P2aOdYXcHhVbdmlgUnSLpZkimYC+rtmWbcO+BKw+xxzu6ROOGIlSZLUERMrSZKkjngoUJIkqSOOWEmSJHVkKC4QeuCBB9a6dev6qnvfffexzz77rGxAAzCu7YLxbdu4tguW3rarrrrqzqp6+AqENDZWe383bm0at/aAberHfH3dUCRW69at41Of+lRfdaemppicnFzZgAZgXNsF49u2cW0XLL1tSb68cK3VbbX3d+PWpnFrD9imfszX13koUJIkqSMmVpIkSR0xsZIkSeqIiZUkSVJHTKwkSZI6YmIlSZLUERMrSZKkjphYSZIkdcTESpIkqSNjlVit23Qp6zZdOugwJKkT195yr32aNGLGKrGSJEkaJBMrSZKkjphYSZIkdcTESpIkqSMmVpIkSR0xsZIkSeqIiZUkSVJHTKwkSZI6YmIlSZLUERMrSZKkjphYSZIkdWTBxCrJu5PckeSzPWX/M8nnk1yT5ANJ1vase3WSLUm+kORZKxW4JEnSsOlnxOps4NgZZZcBP1ZVPw78X+DVAEmOAF4EPL59zZ8n2a2zaCVJkobYgolVVX0EuGtG2Yerake7+HHgkPb58cD5VfXtqvoSsAV4SofxSpIkDa01HWzjV4AL2ucH0yRa07a1ZQ+QZAOwAWBiYoKpqam+drZ9+/Y56248ssn1+t3WMJmvXaNuXNs2ru2C8W6bJK2kZSVWSX4P2AGcN100S7Wa7bVVtRnYDLB+/fqanJzsa59TU1PMVfeUTZcCsPWk/rY1TOZr16gb17aNa7tgvNsmSStpyYlVkpOB5wLHVNV08rQNOLSn2iHArUsPT5IkaXQs6XILSY4FXgU8r6q+2bPqEuBFSfZMchhwOPCJ5YcpSSsryaFJrkhyfZLrkry8LX9dkluSXN0+jut5jWdBS9rJgiNWSd4HTAIHJtkGvJbmLMA9gcuSAHy8qv5rVV2X5ELgczSHCE+rqu+tVPCS1KEdwMaq+nSS/YCrklzWrjuzqt7YW3nGWdCPBP5Xkh+xz5NWtwUTq6o6cZbis+ap/3rg9csJSpJ2taq6Dbitff6NJNczx8k3rR+cBQ18Kcn0WdAfW/FgJQ2tLs4KlKSxkmQd8ETgSuDpwMuSvAT4FM2o1t3sgrOgJ/ZuznYepzM0x+2M03FrD9im5TKxkqQeSfYF/hb4zar6epJ3AH9Ic4bzHwJn0FxmZsXPgn7beRdzxrVrRvJM57mM2xmn49YesE3L5b0CJamVZHeapOq8qno/QFXdXlXfq6rvA3/J/Rc99ixoSQ9gYiVJQJozcc4Crq+qN/WUH9RT7ReA6fumeha0pAfwUKAkNZ4OvBi4NsnVbdnvAicmOYrmMN9W4NcAPAta0mxMrCQJqKqPMvu8qQ/N8xrPgpa0Ew8FSpIkdcTESpIkqSNjmVit23Qp69obMkuSJO0qY5lYSZIkDYKJlSRJUkdMrCRJkjpiYiVJktQREytJkqSOmFhJkiR1xMRKkiSpIyZWkiRJHTGxkiRJ6oiJlSRJUkdMrCRJkjpiYiVJktQREytJkqSOmFhJkiR1xMRKkiSpIwsmVkneneSOJJ/tKTsgyWVJbmj/7t+WJ8lbk2xJck2SJ61k8JIkScOknxGrs4FjZ5RtAi6vqsOBy9tlgGcDh7ePDcA7uglTkiRp+C2YWFXVR4C7ZhQfD5zTPj8HOKGn/NxqfBxYm+SgroKVJEkaZkudYzVRVbcBtH8f0ZYfDNzcU29bWyZJkjT21nS8vcxSVrNWTDbQHC5kYmKCqampvnawffv2OetuPHLHTsv9bnMYzNeuUTeubRvXdsF4t02SVtJSE6vbkxxUVbe1h/ruaMu3AYf21DsEuHW2DVTVZmAzwPr162tycrKvHU9NTTFX3VM2XbrT8taT+tvmMJivXaNuXNs2ru2C8W6bJK2kpR4KvAQ4uX1+MnBxT/lL2rMDjwbunT5kKEmSNO4WHLFK8j5gEjgwyTbgtcDpwIVJTgVuAl7QVv8QcBywBfgm8NIViFmSJGkoLZhYVdWJc6w6Zpa6BZy23KAkSZJGkVdelyRJ6oiJlSRJUkdMrCRJkjrS9XWsBmLdjMssSNJiJTkUOBf4D8D3gc1V9ZYkBwAXAOuArcALq+ruJAHeQnPCzjeBU6rq04OIXdLwcMRKkho7gI1V9TjgaOC0JEfgvVElLYKJlSTR3J5resSpqr4BXE9zSy7vjSqpb2NxKFCSupRkHfBE4Epm3Bs1yUL3Rn3ARZGXeguvib2bW3WN0+2Fxu12SePWHrBNy2ViJUk9kuwL/C3wm1X19WYq1exVZymb9d6oS72F19vOu5gzrl0zUrfnWsi43S5p3NoDtmm5PBQoSa0ku9MkVedV1fvb4tunD/Et9d6oklYPEytJAtqz/M4Crq+qN/Ws8t6okvrmoUBJajwdeDFwbZKr27LfxXujSloEEytJAqrqo8w+bwq8N6qkPnkoUJIkqSMmVpIkSR0xsZIkSeqIiZUkSVJHTKwkSZI6YmIlSZLUERMrSZKkjphYSZIkdcTESpIkqSMmVpIkSR0xsZIkSeqIiZUkSVJHTKwkSZI6sqzEKslvJbkuyWeTvC/JXkkOS3JlkhuSXJBkj66ClSRJGmZLTqySHAz8BrC+qn4M2A14EfAG4MyqOhy4Gzi1i0AlSZKG3XIPBa4B9k6yBngwcBvwDOCidv05wAnL3IckSdJIWLPUF1bVLUneCNwE/DvwYeAq4J6q2tFW2wYcPNvrk2wANgBMTEwwNTXV1363b9/+gLobj9wxa91+tzkMZmvXuBjXto1ru2C82yZJK2nJiVWS/YHjgcOAe4C/AZ49S9Wa7fVVtRnYDLB+/fqanJzsa79TU1PMrHvKpktnrbv1pP62OQxma9e4GNe2jWu7YLzbJkkraTmHAp8JfKmqvlpV3wXeD/wEsLY9NAhwCHDrMmOUJEkaCctJrG4Cjk7y4CQBjgE+B1wBPL+tczJw8fJClCRJGg1LTqyq6kqaSeqfBq5tt7UZeBXwiiRbgIcBZ3UQpyRJ0tBb8hwrgKp6LfDaGcU3Ak9ZznYlSZJGkVdelyRJ6oiJlSRJUkdMrCRJkjpiYiVJktQREytJkqSOmFhJkiR1xMRKkiSpIyZWkiRJHTGxkqRWkncnuSPJZ3vKXpfkliRXt4/jeta9OsmWJF9I8qzBRC1pmJhYSdL9zgaOnaX8zKo6qn18CCDJEcCLgMe3r/nzJLvtskglDSUTK0lqVdVHgLv6rH48cH5VfbuqvgRswdt5Savesu4VOOzWbboUgK2nP2fAkUgacS9L8hLgU8DGqrobOBj4eE+dbW3ZAyTZAGwAmJiYYGpqqq+dTuwNG4/c0Xf9UbB9+3bbM+Rs0/KMdWIlSR14B/CHQLV/zwB+BcgsdWu2DVTVZmAzwPr162tycrKvHb/tvIs549o1bD2pv/qjYGpqin7bPwrGrT1gm5bLQ4GSNI+qur2qvldV3wf+kvsP920DDu2peghw666OT9JwMbGSpHkkOahn8ReA6TMGLwFelGTPJIcBhwOf2NXxSRouHgqUpFaS9wGTwIFJtgGvBSaTHEVzmG8r8GsAVXVdkguBzwE7gNOq6nuDiFvS8DCxkqRWVZ04S/FZ89R/PfD6lYtI0qjxUKAkSVJHTKwkSZI6YmIlSZLUERMrSZKkjphYSZIkdcTESpIkqSMmVpIkSR1ZVmKVZG2Si5J8Psn1SZ6W5IAklyW5of27f1fBSpIkDbPljli9BfjHqvpR4AnA9cAm4PKqOhy4vF2WJEkae0tOrJI8BPhp2qsSV9V3quoe4HjgnLbaOcAJyw1SkiRpFCxnxOrRwFeBv0rymSTvSrIPMFFVtwG0fx/RQZySJElDbzn3ClwDPAn49aq6MslbWMRhvyQbgA0AExMTTE1N9fW67du3P6DuxiN3zPuafrc9SLO1a1yMa9vGtV0w3m2TpJW0nMRqG7Ctqq5sly+iSaxuT3JQVd2W5CDgjtleXFWbgc0A69evr8nJyb52OjU1xcy6p2y6dN7XbD2pv20P0mztGhfj2rZxbReMd9skaSUt+VBgVX0FuDnJY9uiY4DPAZcAJ7dlJwMXLytCSZKkEbGcESuAXwfOS7IHcCPwUppk7cIkpwI3AS9Y5j4kSZJGwrISq6q6Glg/y6pjlrNdSZKkUeSV1yVJkjpiYiVJktQREytJkqSOmFhJkiR1xMRKkiSpIyZWkiRJHTGxkiRJ6oiJlSRJUkdMrCRJkjpiYiVJktQREytJkqSOmFhJkiR1xMRKkiSpIyZWkiRJHTGxkqRWkncnuSPJZ3vKDkhyWZIb2r/7t+VJ8tYkW5Jck+RJg4tc0rAwsZKk+50NHDujbBNweVUdDlzeLgM8Gzi8fWwA3rGLYpQ0xEysJKlVVR8B7ppRfDxwTvv8HOCEnvJzq/FxYG2Sg3ZNpJKG1ZpBByBJQ26iqm4DqKrbkjyiLT8YuLmn3ra27LaZG0iygWZUi4mJCaampvrb8d6w8cgdfdcfBdu3b7c9Q842LY+JlSQtTWYpq9kqVtVmYDPA+vXra3Jysq8dvO28iznj2jVsPam/+qNgamqKfts/CsatPWCblstDgZI0v9unD/G1f+9oy7cBh/bUOwS4dRfHJmnImFhJ0vwuAU5un58MXNxT/pL27MCjgXunDxlKWr08FChJrSTvAyaBA5NsA14LnA5cmORU4CbgBW31DwHHAVuAbwIv3eUBSxo6JlaS1KqqE+dYdcwsdQs4bWUjkjRqVt2hwHWbLmXdpksHHYYkSRpDqy6xkiRJWinLTqyS7JbkM0k+2C4fluTK9vYPFyTZY/lhSpIkDb8uRqxeDlzfs/wG4Mz29g93A6d2sA9JkqSht6zEKskhwHOAd7XLAZ4BXNRW6b39gyRJ0lhb7lmBbwZeCezXLj8MuKeqdrTL07d4eICl3uJhtsvSbzxyx+yVW731p+sO2+X6x/EWAtPGtW3j2i4Y77ZJ0kpacmKV5LnAHVV1VZLJ6eJZqnZ6i4fZLkt/ygJn+fXeDmK67rDdImIcbyEwbVzbNq7tgvFumyStpOWMWD0deF6S44C9gIfQjGCtTbKmHbXyFg+SJGnVWHJiVVWvBl4N0I5Y/XZVnZTkb4DnA+ez8+0fBsbrVkmSpF1hJa5j9SrgFUm20My5OmsF9iFJkjR0OrmlTVVNAVPt8xuBp3SxXUmSpFHildclSZI6YmIlSZLUERMrSZKkjphYSZIkdcTESpIkqSMmVpIkSR0xsZIkSepIJ9exkiTter13ldh6+nMGGImkaY5YSZIkdcTESpIkqSMmVpIkSR0xsZIkSeqIiZUkSVJHTKwkSZI6YmIlSZLUERMrSZKkjphYSZIkdcTESpIkqSMmVpIkSR3xXoGS1IckW4FvAN8DdlTV+iQHABcA64CtwAur6u5BxShp8EysJKl//6mq7uxZ3gRcXlWnJ9nULr9qpYPovfnyzDJvxiwNlocCJWnpjgfOaZ+fA5wwwFgkDQFHrCSpPwV8OEkBf1FVm4GJqroNoKpuS/KI2V6YZAOwAWBiYoKpqam+djixN2w8cscD6m88csecr+l324Oyffv2oY9xMcatPWCblsvESpL68/SqurVNni5L8vl+X9gmYZsB1q9fX5OTk3297m3nXcwZ165h60k71z9llkOB02bWHTZTU1P02/5RMG7tAdu0XEs+FJjk0CRXJLk+yXVJXt6WH5DksiQ3tH/37y5cSRqMqrq1/XsH8AHgKcDtSQ4CaP/eMbgIJQ2D5cyx2gFsrKrHAUcDpyU5gvsncx4OXN4uS9LISrJPkv2mnwM/B3wWuAQ4ua12MnDxYCKUNCyWfCiwnVcwPbfgG0muBw6mmcw52VY7B5hiF5wlI0kraAL4QBJo+s33VtU/JvkkcGGSU4GbgBcMMEZJQ6CTOVZJ1gFPBK5khSdzzjYBbb6JnHMZtol54zhZcNq4tm1c2wXj3balqKobgSfMUv414JhdH5GkYbXsxCrJvsDfAr9ZVV9vf9EtaKmTOWebgDbfRM65DNsEz3GcLDhtXNs2ru2C8W6bJK2kZV3HKsnuNEnVeVX1/rbYyZySJGlVWs5ZgQHOAq6vqjf1rHIypyRJWpWWcyjw6cCLgWuTXN2W/S5wOk7mlCRJq9Byzgr8KDDXhConc0qSpFXHewVKkiR1xMRKkiSpIyZWkiRJHVm1idW6TZeybgnXv5IkSZrLqk2spplgSZKkrqz6xEqSJKkrndwrcJz0jl5tPf05A4xEkiSNGkesJEmSOjKyI1Zdz4tynpWkcTLdpznyLu1ajlhJkiR1ZGRHrCRptXFkXRp+JlaSNEZMvqTB8lCgJElSR0ys5uHFQyVJ0mKYWEmSJHXExEqSxpgj79KuZWIlSauMyZa0ckysJEmSOmJi1Qd/3UmSpH54HStJGnL+sJNGx8iNWF17y712MpIkaSg5YrUI/dzUdGad3iTQm6FKGhR/kEq7xsiNWEmSujFz/qjzSaXlc8RqCWYbhZrZGS2mc1q36VI2HrmDyU6ikyRJg2JiJUmrnKNUUndWLLFKcizwFmA34F1VdfpK7WuQFjsy1WvmnCvnY0mjZ7X0ddP6mWsqrWYrklgl2Q14O/CzwDbgk0kuqarPrcT+RtVSfiXuyk5tMfuab9L+xiN3cMqmS3d5RzwM/wEMQwxLNcqx7yqrua+brf9aTf9Wptt/9rH7DDgSDZuVGrF6CrClqm4ESHI+cDww9p2NpFVlLPu65R4aXMqPsmmrKTlbLYb9R1rX8aWqOtnQThtNng8cW1W/2i6/GHhqVb2sp84GYEO7+FjgC31u/kDgzg7DHRbj2i4Y37aNa7tg6W17VFU9vOtghlU/fV1bbn93v3Fr07i1B2xTP+bs61ZqxCqzlO2UwVXVZmDzojecfKqq1i81sGE1ru2C8W3buLYLxrttHVuwrwP7u17j1qZxaw/YpuVaqetYbQMO7Vk+BLh1hfYlSYNiXydpJyuVWH0SODzJYUn2AF4EXLJC+5KkQbGvk7STFTkUWFU7krwM+CeaU5DfXVXXdbT5RQ+nj4hxbReMb9vGtV0w3m3rzAr3dTCen8O4tWnc2gO2aVlWZPK6JEnSauS9AiVJkjpiYiVJktSRkUmskhyb5AtJtiTZNOh4ZpPk0CRXJLk+yXVJXt6WH5DksiQ3tH/3b8uT5K1tm65J8qSebZ3c1r8hyck95U9Ocm37mrcmme1075Vs425JPpPkg+3yYUmubOO8oJ3AS5I92+Ut7fp1Pdt4dVv+hSTP6ikf2GecZG2Si5J8vv38njYOn1uS32r/LX42yfuS7DUun9k4G/b3Ncm7k9yR5LM9ZSP9fckY9t/t9/0TSf6tbdMftOUj3Qdk2P8fqqqhf9BMCv0i8GhgD+DfgCMGHdcscR4EPKl9vh/wf4EjgD8FNrXlm4A3tM+PA/6B5lo4RwNXtuUHADe2f/dvn+/frvsE8LT2Nf8APHsXt/EVwHuBD7bLFwIvap+/E/j/2+f/DXhn+/xFwAXt8yPaz29P4LD2c91t0J8xcA7wq+3zPYC1o/65AQcDXwL27vmsThmXz2xcH6PwvgI/DTwJ+GxP2ah/X8au/273s2/7fHfgyjbWke4DGPL/hwb+Be3zTXwa8E89y68GXj3ouPqI+2Kae4h9ATioLTsI+EL7/C+AE3vqf6FdfyLwFz3lf9GWHQR8vqd8p3q7oD2HAJcDzwA+2H5p7wTWzPycaM6Selr7fE1bLzM/u+l6g/yMgYfQJCCZUT7SnxtNYnUzTQe/pv3MnjUOn9k4P0blfQXWsXNiNdLfl1naN27994OBTwNPHeU+gBH4f2hUDgVO/wcxbVtbNrTaIccn0vxCmKiq2wDav49oq83VrvnKt81Svqu8GXgl8P12+WHAPVW1Y5Z4ftxOBCUAACAASURBVNCGdv29bf3FtnlXeDTwVeCv2uHldyXZhxH/3KrqFuCNwE3AbTSfwVWMx2c2zkb1fR3p70uvceq/28NmVwN3AJfRjMiMch8w9P8PjUpi1ddtI4ZFkn2BvwV+s6q+Pl/VWcpqCeUrLslzgTuq6qre4nniGZm20fySeRLwjqp6InAfzZD/XEaibe1ckONphrofCewDPHueWEaiXavAuL2vI/Xvatz676r6XlUdRTPS8xTgcfPEMdRtGpX/h0YlsRqZ20Yk2Z3mS3leVb2/Lb49yUHt+oNofjnA3O2ar/yQWcp3hacDz0uyFTifZhj2zcDaJNMXmu2N5wdtaNc/FLiLxbd5V9gGbKuqK9vli2gSrVH/3J4JfKmqvlpV3wXeD/wE4/GZjbNRfV9H/fsyzv03VXUPMEUzx2pU+4DR+H9oVx3fXeYx1TU0EwAP4/4JZY8fdFyzxBngXODNM8r/JztPfvzT9vlz2Hny4yfa8gNo5vzs3z6+BBzQrvtkW3d68uNxA2jnJPdPGvwbdp40+N/a56ex86TBC9vnj2fnSYM30kwYHOhnDPwL8Nj2+evaz2ykPzeauRTX0cytCM0E/V8fl89sXB+j8r7ywDlWo/59Gbv+G3g4sLZ9vjdNP/fccegDGOL/hwb+5VzEm3gczVkaXwR+b9DxzBHjT9IMG14DXN0+jqM5pns5cEP7d/pLFuDtbZuuBdb3bOtXgC3t46U95euBz7av+TNmTLjeRe3s/Qf9aJozXba0/7j3bMv3ape3tOsf3fP632vj/wI9Z8UM8jMGjgI+1X52f0fTIY785wb8AfD5dt9/3XYkY/GZjfNj2N9X4H008/a+S/Mr/9RR/74whv038OPAZ9o2fRb4/bZ85PsAhvj/IW9pI0mS1JFRmWMlSZI09EysJEmSOmJiJUmS1BETK0mSpI6YWEmSJHXExEqSJKkjJlaSJEkdMbGSJEnqiImVJElSR0ysJEmSOmJiJUmS1BETK0mSpI6YWEmSJHXExEqSJKkjJlaSJEkdMbGSJEnqiImVJElSR0ysJEmSOmJiJUmS1BETK0mSpI6YWEmSJHXExEqSJKkjJlaSJEkdMbGSJEnqiImVJElSR0ysJEmSOmJiJUmS1BETK0mSpI6YWEmSJHXExEqSJKkjJlaSJEkdMbGSJEnqiImVJElSR0ysJEmSOmJiJUmS1BETK0mSpI6YWGlBSbYmeWb7/HeTvGuF9nNSkg+vxLYlSdoVTKzGRJJfSvKpJNuT3JbkH5L8ZNf7qao/rqpfbfe5LkklWdNHfKck+egs5T9I2qrqvKr6uT62dXaSP1pK/JLGS28fsov3O5Xk7iR77up992OuPlcrz8RqDCR5BfBm4I+BCeCHgD8Hjp+l7oJJ0LhLstugY5A0upKsA34KKOB5Aw1GQ8fEasQleSjwP4DTqur9VXVfVX23qv6+qn4nyeuSXJTkPUm+DpyS5EFJNiX5YpKvJbkwyQE923xxki+3635vxv5el+Q97eJH2r/3tCNlT1tmW37wCyuNM5PckeTeJNck+bEkG4CTgFe2+/z7tv7j2l+Q9yS5LsnzerZ7dpJ3JPlQkvuAVyS5vTfJTPKfk1y9nPglDY8k/yXJliR3JbkkySN71r0lyc1Jvp7kqiQ/1bPudW2feG6Sb7T9yfoZm38J8HHgbODkGfs9O8mft0cNtif51yT/Icmb2xGuzyd5Yk/9+fquqSS/2rO80yhUe8Tgvya5od3229u+83HAO4GntTHcs+w3VH0zsRp9TwP2Aj4wT53jgYuAtcB5wG8AJwA/AzwSuBt4O0CSI4B3AC9u1z0MOGSO7f50+3dtVe1bVR9bVkt29nPt9n+kjfsXga9V1ea2DX/a7vPnk+wO/D3wYeARwK8D5yV5bM/2fgl4PbAf8Dbga8DP9qz/ZeCvO4xf0oAkeQbwJ8ALgYOALwPn91T5JHAUcADwXuBvkuzVs/55bf21wCXAn83YxUto+qHzgGclmZix/oXAa4ADgW8DHwM+3S5fBLypjbOfvmshzwX+I/CEdr/Pqqrrgf8KfKztJ9cuYntaJhOr0fcw4M6q2jFPnY9V1d9V1fer6t+BXwN+r6q2VdW3gdcBz29HcJ4PfLCqPtKu++/A9zuK9ej2V9kPHjSHLWfzXZok6EeBVNX1VXXbXNsF9gVOr6rvVNU/Ax8ETuypc3FV/Wv7HnwLOIcmmaIdrXsWTQcrafSdBLy7qj7d9mOvphm9WQdQVe+pqq9V1Y6qOgPYE+hNZj5aVR+qqu/R/OB6wvSKNHNXHwVcWFVXAV+k+eHW6wNVdVXb13wA+FZVndtu7wJgesSqn75rIadX1T1VdRNwBU3CqAEysRp9XwMOXGDu1M0zlh8FfKAnubke+B7N/KxH9tavqvvafXTh41W1tvcB3DRbxbaD+TOakbTbk2xO8pA5tvtI4Oaq6k0Avwwc3LM88z14D/DzSfal+ZX3L/MkbpJGyyNp+gAAqmo7TT92MECSjUmub6cZ3AM8lGY0adpXep5/E9irp489GfhwVd3ZLr+XGYcDgdt7nv/7LMv79sS5UN+1kJmx7jtXRe0aJlaj72PAt2gO7c2lZizfDDx7RpKzV1XdAtwGHDpdMcmDaUbF+tlup6rqrVX1ZODxNIcEf2eO/d4KHJqk99/zDwG39G5uxrZvoXnvfoHmsKeHAaXxcSvND0gAkuxD04/d0s6nehXND6r92x949wJZaKNJ9m5f9zNJvpLkK8BvAU9I8oT5Xz1nnPP1XfcBD+5Z9x8Wse0V7Z81NxOrEVdV9wK/D7w9yQlJHpxk9yTPTvKnc7zsncDrkzwKIMnDk0yfQXgR8NwkP5lkD5qJ8XP9O/kqzWHCR3fWoFaS/5jkqe0chPtoksfvtatvn7HPK9s6r2zbPgn8PDvPqZjNucArgSOZf46apOG2e5K9ph/AhcBLkxyV5nIIfwxcWVVbaaYY7KDpv9Yk+X1grtHwmU6g6YeOoDnkdhTwOOBfaOZdLdZCfdfVwP/X9uuPAU5dxLZvBw5p+3HtQiZWY6Cq3gS8gmay5FdpRqReBvzdHC95C82EzA8n+QbN2S1Pbbd1HXAazfD2bTQT27fNsd9v0kwI/9f2sOLRXbWJpqP7y3b/X6YZxn9ju+4s4Ih2n39XVd+hmWz6bOBOmktNvKSqPr/APj5Ae1i0PeQpaTR9iOYQ2/Tjp2jmh/4tTT/2w8CL2rr/BPwD8H9p+pZv8cCpAnM5Gfirqrqpqr4y/aCZtnDSAlMyHqCPvutM4Ds0SdI5NJPl+/XPwHXAV5LcuVBldSdVjhZq9UryReDXqup/DToWSdLoc8RKq1aS/0wzD+GfBx2LJGk8mFipM0ne2V6MbubjnYOObaYkUzTX6zptxhk5kiQtmYcCJUmSOuKIlSRJUkeG4oa8Bx54YK1bt66vuvfddx/77LPPygbUIeNdeaMW8zjHe9VVV91ZVQ9f4ZBG2kL93aD/fbj/we1/Nbd91PY/b19XVQN/PPnJT65+XXHFFX3XHQbGu/JGLeZxjhf4VA1BnzLMj4X6u0H/+3D/g9v/am77qO1/vr7OQ4GSJEkdMbGSJEnqiImVJElSR0ysJEmSOmJiJUmS1BETK0mSpI6YWEmSJHXExEqSJKkjJlaSJEkdGYpb2kgaPus2XQrA2ceOzu13tHKm/z1sPf05A45EGm6OWEmSJHXExEqSJKkjJlaSJEkdMbGSJEnqiImVJElSR0ysJEmSOmJiJUmS1BETK0mSpI6YWEmSJHXExEqSJKkjJlaSJEkdMbGSJEnqiImVJElSR0ysJEmSOmJiJUmS1BETK0mSpI6YWEmSJHVkzaADkCQNl3WbLv3B862nP2fWdTPLJTUcsZIkSeqIiZUkSVJHTKwkSZI6YmIlSZLUERMrSZKkjphYSZIkdcTESpL6lGS3JJ9J8sF2+bAkVya5IckFSfYYdIySBsvESpL693Lg+p7lNwBnVtXhwN3AqQOJStLQMLGSpD4kOQR4DvCudjnAM4CL2irnACcMJjpJw8Irr0tSf94MvBLYr11+GHBPVe1ol7cBB8/2wiQbgA0AExMTTE1NzbmT7du3z7t+pW3fvp2NR37vB8vTsWw8csdO9VYqxmFo/6D2v5rbPk77N7GSpAUkeS5wR1VdlWRyuniWqjXb66tqM7AZYP369TU5OTlbNaBJWOZbv9KmpqY446P3/WB560lNLKf03Oamt3wl9j/o9g9q/6u57eO0/74PBfY7aTPJnu3ylnb9umVHKUmD9XTgeUm2AufTHAJ8M7A2yfQP1EOAWwcTnqRhsZg5Vv1O2jwVuLuqHgOc2daTpJFVVa+uqkOqah3wIuCfq+ok4Arg+W21k4GLBxSipCHRV2K1yEmbx7fLtOuPaetL0rh5FfCKJFto5lydNeB4JA1Yv3OsFjNp82DgZoCq2pHk3rb+nZ1ELEkDVFVTwFT7/EbgKYOMR9JwWTCxWsKkzb4mdC7mLJlegz5rYLGMd+WNWsyjEu/0WWCjEq8kDYN+RqymJ20eB+wFPISeSZvtqFXvpM1twKHAtnZS50OBu2ZudDFnyfQa9FkDi2W8K2/UYh6VeKfPAjv72H1GIl5JGgYLzrFawqTNS9pl2vX/XFWznoIsSZI0TpZz5fW5Jm2eBTysLX8FsGl5IUqSJI2GRV0gtJ9Jm1X1LeAFHcQmSZI0UrxXoCRJUkdMrCRJkjpiYiVJktQREytJEgDrNl3KtbfcO+gwpJFmYiVJktQREytJkqSOmFhJkiR1xMRKkiSpIyZWkiRJHTGxkiRJ6oiJlSRJUkdMrCRJkjqyqJswS5IEzcVEp209/TkDjEQaLo5YSZIkdcTESpIkqSMmVpIkSR0xsZIkSeqIiZUkSVJHTKwkSZI6YmIlSZLUERMrSZKkjphYSZIkdcTESpIkqSMmVpIkSR0xsZIkSeqIiZUkSVJH1gw6AEnS8Fq36dJBhyCNFEesJEmSOmJiJUmS1BETK0mSpI6YWEmSJHXEyeuStMo5QV3qjiNWkrSAJHsl+USSf0tyXZI/aMsPS3JlkhuSXJBkj0HHKmmwTKwkaWHfBp5RVU8AjgKOTXI08AbgzKo6HLgbOHWAMUoaAiZWkrSAamxvF3dvHwU8A7ioLT8HOGEA4UkaIiZWktSHJLsluRq4A7gM+CJwT1XtaKtsAw4eVHyShoOT1yWpD1X1PeCoJGuBDwCPm63abK9NsgHYADAxMcHU1NSc+9m+ffu861fCxiN3/OD5xN47L/djZrzX3nIvAEce/NBFxzKI9g/L/ldz28dp/wsmVkn2Aj4C7NnWv6iqXpvkMOB84ADg08CLq+o7SfYEzgWeDHwN+MWq2rrsSCVpCFTVPUmmgKOBtUnWtKNWhwC3zvGazcBmgPXr19fk5OSc25+ammK+9SvhlJ6zAjceuYMzrl3cb+6tJ03Our2Z5f0YRPuHZf+rue3jtP9+DgUudtLmqcDdVfUY4My2niSNrCQPb0eqSLI38EzgeuAK4PlttZOBiwcToaRhsWBitYRJm8e3y7Trj0mSziKWpF3vIOCKJNcAnwQuq6oPAq8CXpFkC/Aw4KwBxihpCPQ13ptkN+Aq4DHA25l/0ubBwM0AVbUjyb00Hc6dM7bZ95yDXoM+BrtYxrvyRi3mUYl3ep7NqMS7kqrqGuCJs5TfCDxl10ckaVj1lVgtctLmbKNTD5jQuZg5B70GfQx2sYx35Y1azKMS7/Q8mbOP3Wck4pWkYbCoyy1U1T3AFD2TNttVvZM2twGHArTrHwrc1UWwkiRJw2zBxGoJkzYvaZdp1/9zVc16CrIkSdI46edQ4EHAOe08qwcBF1bVB5N8Djg/yR8Bn+H+SZtnAX/dTua8C3jRCsQtSZI0dBZMrBY7abOqvgW8oJPoJEljad30ta5Of86AI5G65S1tJEmSOmJiJUmS1BETK0mSpI6YWEmSJHXExEqSJKkjJlaSJEkdMbGSJEnqiImVJElSR0ysJEmSOmJiJUmS1BETK0mSpI6YWEmSJHXExEqSJKkjJlaSJEkdMbGSJEnqiImVJElSR0ysJEmSOmJiJUmS1BETK0mSpI6YWEmSJHXExEqSJKkjJlaSJEkdMbGSJEnqiImVJElSR0ysJEmSOmJiJUmS1BETK0mSpI6sGXQAkqTxsG7TpYMOQRo4R6wkSZI6YmIlSZLUERMrSZKkjphYSZIkdcTESpLG2LpNlzqpXNqFTKwkaQFJDk1yRZLrk1yX5OVt+QFJLktyQ/t3/0HHKmmwTKwkaWE7gI1V9TjgaOC0JEcAm4DLq+pw4PJ2WdIqZmIlSQuoqtuq6tPt828A1wMHA8cD57TVzgFOGEyEkobFgonVYofA03hrki1JrknypJVuhCTtKknWAU8ErgQmquo2aJIv4BGDi0zSMOjnyuvTQ+CfTrIfcFWSy4BTaIbAT0+yiWYI/FXAs4HD28dTgXe0fyVppCXZF/hb4Der6utJ+n3dBmADwMTEBFNTU3PW3b59+7zrF2vjkTsA5t3mdB2Aib13Xu7H9LZnvq6ffc6s03X7F2uQ+1/NbR+n/S+YWLW/wqZ/kX0jSe8Q+GRb7RxgiiaxOh44t6oK+HiStUkOmv5VJ0mjKMnuNEnVeVX1/rb49un+LclBwB2zvbaqNgObAdavX1+Tk5Nz7mdqaor51i/WKe0ZgVtPmnubp/ScNbjxyB2cce3i7nY2ve1TZpx92M8+Z9bpuv2LNcj9r+a2j9P+FzXHqs8h8IOBm3tetq0tk6SRlGZo6izg+qp6U8+qS4CT2+cnAxfv6tgkDZe+f5YsYgh8thU1y/b6HhrvNeihwsUy3pU3ajGPSrzTh2pGJd4V9nTgxcC1Sa5uy34XOB24MMmpwE3ACwYUn6Qh0Vditcgh8G3AoT0vPwS4deY2FzM03mvQQ4WLZbwrb9RiHpV4pw/VnH3sPiMR70qqqo8y+49GgGN2ZSyShls/ZwUudgj8EuAl7dmBRwP3Or9KkiStBv2MWC12CPxDwHHAFuCbwEs7jViSJGlI9XNW4KKGwNuzAU9bZlySJEkjxyuvS5IkdcTESpJWmXWbLmXdjGtOSeqGiZUkSVJHTKwkSZI6YmIlSZLUERMrSZKkjphYSZIkdcTESpIkqSMmVpIkSR0xsZIkSepIP/cKlCSpE16YVOPOEStJkqSOmFhJkiR1xMRKkiSpIyZWkiRJHTGxkiRJ6oiJlSRJUkdMrCRJkjpiYiVJktQREytJkqSOeOV1SVqlvAq61D1HrCRJkjpiYiVJktQREytJkqSOOMdKkrQsC83Vci6XVhNHrCRJkjpiYiVJktQREytJkqSOmFhJkiR1xMRKkiSpIyZWkiRJHTGxkiRJ6oiJlSRJUkdMrCRJkjrildclaQxMX9186+nPmXe9pJXliJUkLSDJu5PckeSzPWUHJLksyQ3t3/0HGaOk4WBiJUkLOxs4dkbZJuDyqjocuLxdlrTKLZhYLeaXWhpvTbIlyTVJnrSSwUvSrlBVHwHumlF8PHBO+/wc4IRdGpSkodTPHKuzgT8Dzu0pm/6ldnqSTe3yq4BnA4e3j6cC72j/StK4maiq2wCq6rYkj5irYpINwAaAiYkJpqam5tzo9u3b510/l41H7gB4wGuny/s1sffiXzOX6Vjm297MeJfa/q4Mcv+rue3jtP8FE6uq+kiSdTOKjwcm2+fnAFM0idXxwLlVVcDHk6xNctB05yNJq1FVbQY2A6xfv74mJyfnrDs1NcV86+dyyvTk9ZMmZy3v18Yjd3DGtd2c1zQdy3wxzIx3qe3vyiD3v5rbPk77X+q3Z65fagcDN/fU29aWPSCxWswvuF6DzmgXy3hX3qjFPCrxTo8yjEq8A3D79A/HJAcBdww6IEmD1/XlFjJLWc1WcTG/4HoNOqNdLONdeaMW86jEOz3KcPax+4xEvANwCXAycHr79+LBhiNpGCz1rMDb219ozPiltg04tKfeIcCtSw9PkgYvyfuAjwGPTbItyak0CdXPJrkB+Nl2WdIqt9QRq7l+qV0CvCzJ+TST1u91fpWkUVdVJ86x6phdGsgiDMMFQYchBmlXWzCxan+pTQIHJtkGvJYmobqw/dV2E/CCtvqHgOOALcA3gZeuQMySJElDqZ+zAvv+pdaeDXjacoOaz7W33Mspmy6d87YNkiRJg+KV1yVJkjpiYiVJktSRri+3IEkaoFGdML6u5/Ie0ihzxEqSJKkjJlaSJEkdMbGSJEnqiImVJElSR0ysJEljZ92mS0d2Ir9Gm4mVJElSR0ysJEmSOmJiJUmS1BEvECpJGpj55kFNr/PesBoljlhJkiR1xMRKkiSpIyZWkiRJHTGxkiRJ6oiT1yVJQ+PaW+7llDkmtDuZXaPAEStJkqSOmFhJkiR1xMRKkiSpIyZWkiRJHXHyuiSNGCdxN3qv2j79Xsx3JXdpV3DESpIkqSMmVpIkSR0xsZIkSeqIc6wkaUTMnD/kfKL7LfRezDcfa+ZctdnqjhPn6K0sR6wkSZI6YmIlSZLUERMrSZKkjphYSZIkdcTJ65KkkbKYSfuz1Z3r9es2XcrGI3cw23+N/Uz47qrOrjYd09nH7jPQGDYeuYPJgUXQHUesJEmSOmJiJUmS1BETK0mSpI6YWEmSJHXEyeuSNKS8snpjpd+H+bY/19XuFzNBvZ/4pydvn9LHVd+7mgA/M65rb7mXUzZd2vnE+l0xYX85++h68v6KjVglOTbJF5JsSbJppfYjSYNkXyep14okVkl2A94OPBs4AjgxyRErsS9JGhT7OkkzrdSI1VOALVV1Y1V9BzgfOH6F9iVJg2JfJ2knqaruN5o8Hzi2qn61XX4x8NSqellPnQ3AhnbxscAX+tz8gcCdHYa70ox35Y1azOMc76Oq6uErGcww6aeva8sX098N+t+H+x/c/ldz20dt/3P2dSs1eT2zlO2UwVXVZmDzojecfKqq1i81sF3NeFfeqMVsvGNlwb4OFtffDfr9dv+D2/9qbvs47X+lDgVuAw7tWT4EuHWF9iVJg2JfJ2knK5VYfRI4PMlhSfYAXgRcskL7kqRBsa+TtJMVORRYVTuSvAz4J2A34N1VdV1Hm1/04cMBM96VN2oxG++YWKG+btDvt/tfnft2/x3tf0Umr0uSJK1G3tJGkiSpIyZWkiRJHRnaxGqh20Qk2TPJBe36K5Os2/VR7hTPQvG+IsnnklyT5PIkjxpEnD3x9HUbjiTPT1JJBnq6fT/xJnlh+x5f9//au/9ou8r6zuPvTwmCEkr4ISkFNDpSF6xaATOKy7aTgLWADtBZ2oHSElx0GDu2Y5d2aWw7/bWmU2zXCOOqVbPEio4aEUUyoFUGuNNqC0oU+VG0RBshgqQIxEarFv3OH+e58XBz4d4kzz3n3PB+rXXW2fvZT/bzPfuc5Hyyn33OSfL+Udc4o5a5Xg9PS3JDks+318Tp46hzqJ53Jdma5PbH2J4kb2mP59YkJ466xr3dKH4aZ7bnOckhSa5Ncle7P7i1d3/OkxzdXvd3tr+nrxllDUn2T/KZJF9o4/9ha39Gex+5q72vPKm1d3+fSbJP+3t/9ajHbvvdnOS2JLckubm1jfI1sCzJFUm+2F4HLxzh8//s9rinb99M8pvdx6+qibsxuAj0y8AzgScBXwCOm9HnvwBvb8tnAx+c8HpXA09py7826fW2fgcCfw3cCKyc5HqBY4DPAwe39cMnvN51wK+15eOAzeOqt9Xws8CJwO2Psf104OMMvrfpJOCmcda7t93m+3dyIZ5n4E+BtW15LfCmhXrOgSOAE9vygcA/tNf/SGpo+1nalvcFbmr7vRw4u7W/fejvZvf3GeC1wPuBq9v6yMZu+9oMHDajbZSvgcuAX23LTwKWjXL8oTr2Ab4OPL33+F3/0nZ8wC8EPjG0/kbgjTP6fAJ4YVtewuDbUjOp9c7ofwLw6Uk+vq39EuBlwBTjDVbzeT386fRf1nHf5lnvO4A3DPX/2wmoewWPHazeAZwztP4l4Ihx17y33Hb135Cez/Pwc8kg+HxpVM85cBXwc+OoAXgK8DngBe39Y8nM56L3+wyD7zm7DjgZuLq9YY9k7KEaNrNzsBrJ8Qd+FPjHmY9jTM//S2jvw73Hn9SpwCOBe4bWt7S2WftU1SPANuDQkVS3s/nUO+wCBil4XOasN8kJwNFVdfUoC3sM8zm+PwH8RJJPJ7kxyakjq25n86n3D4BfTrIF+BjwG6Mpbbft6mtcu2acx3d5Vd0H0O4PH0VNbWrrBAZnjUZWQ5uKuwXYClzL4Ezhw+19ZOYYvd9nLgFeD/ygrR86wrGnFfDJJBsz+KklGN3xfybwT8BftunQdyY5YITjDzsb+EBb7jr+pAar+fxMxLx+SmJE5l1Lkl8GVgJ/tqAVPb7HrTfJjwAXA68bWUWPbz7HdwmD6cBVwDnAO5MsW+C6Hst86j0HeHdVHcXgdPN723GfVJP0921vNInHd8FqSrIU+DDwm1X1zVHWUFXfr6rjGZw9ej5w7OOM0W38JC8DtlbVxuHmUYw9w4uq6kTgNODVSX72cfr2rmEJg6not1XVCcC3GEy9jWr8wU4H17GdAXxorq67M/6k/kM+n5+J2NEnyRLgIODBkVS3s3n9rEWSFwO/A5xRVd8dUW2zmaveA4GfBKaSbGYwt7wh47uAfb6vh6uq6l+r6h8ZnLI9ZkT1zTSfei9gcG0FVfV3wP4MfgB0UvnTLQtrnMf3/iRHALT7rQtZU5J9GYSq91XVR8ZRA0BVPczgMoeTgGXtfWTmGD3fZ14EnNH+TV3PYDrwkhGNvUNV3dvutwJXMgiXozr+W4AtVXVTW7+CQdAa9fN/GvC5qrq/rXcdf1KD1Xx+JmIDsKYtvxy4vtok6BjMWW+bWnsHg1C1dZZ9jNLj1ltV26rqsKpaUVUrGFy8fkZV3Tyecuf1evgogw8IlEkmtwAAGIFJREFUkOQwBlODXxlplT80n3rvBk4BSHIsg2D1TyOtctdsAM5rn5I5Cdg2fepcXYzzp3GG/y1dw+C6p+n2rs95kgCXAndW1ZtHXUOSp06fyU7yZODFwJ3ADQzeR2Ybv8v7TFW9saqOav+mnt32de4oxp6W5IAkB04vM7jO6HZGdPyr6uvAPUme3ZpOAf5+VOMPOYcfTgNOj9Nv/B4XgS3EjcH0yD8wmP/+ndb2Rwze4GHwRvQhYBPwGeCZE17v/wXuB25ptw2TXO+MvlOM8eL1eR7fAG9m8Jf0NtqnbCa43uOATzP49NctwEvGXO8HgPuAf2Xwv7QLgFcBrxo6vm9tj+e2cb8e9sbbbK+ZET3PhzK4oPqudn/IQj3nwE8zmEq5dejfwtNHVQPwUww+PXwrg0Dxe639me19ZFN7X9mvtS/I+wyDSxauHvXYbawvtNsdQ/82jfI1cDxwc3sOPgocPOLxnwJ8AzhoqK3r+P6kjSRJUieTOhUoSZK06BisJEmSOjFYSZIkdWKwkiRJ6sRgJUmS1InBSpIkqRODlSRJUicGK0mSpE4MVpIkSZ0YrCRJkjoxWEmSJHVisJIkSerEYCVJktSJwUqSJKkTg5UkSVInBitJkqRODFaSJEmdGKwkSZI6MVhJkiR1YrCSJEnqxGAlSZLUicFKkiSpE4OVJElSJwYrSZKkTgxWkiRJnRisJEmSOjFYSZIkdWKwkiRJ6sRgJUmS1InBSpIkqRODlSRJUicGK0mSpE4MVpIkSZ0YrCRJkjoxWEmSJHVisJIkSerEYCVJktSJwUqSJKkTg9WYJdmc5MXjrmNakqkkDyXZb9y1zCbJ+Uk+NY9+H0+yvd3+Ncn3htbfPopaJUlPPEvGXYAmR5IVwM8A24AzgA+Ns549UVWnTS8neTewpap+d3f2lWRJVT3SqzZJ0t7LM1YTKsl/SrIpyYNJNiT58aFt/yvJPUm+mWRjkp8Z2vYHSS5P8p4k/5zkjiQr5znsecCNwLuBNTPqeXeSvxg6E/TpJD+W5JJ2huuLSU4Y6n9sO/v1cKvhjKFtU0l+dWj9UWehklSSVyW5q+37rRk4Fng78MJWw8PzPqCzSPILSW5tNf5NkuOGtn09yW8luQP45lDba9vj2Z7kbUmOSHJtey7+KsmP7klNkqTFzWA1gZKcDPwJ8IvAEcBXgfVDXT4LHA8cArwf+FCS/Ye2n9H6LwM2AH8+z6HPA97Xbj+fZPmM7b8I/C5wGPBd4O+Az7X1K4A3t/r3Bf4P8EngcOA3gPclefY86wB4GfBvgee2cX++qu4EXgX8XVUtraplu7C/R0lyEvAXwCuBQ4H3Ah9NMnwW9z8CP9e2T/sF4N8BxwFnA1cBrwWWA0uBX9vdmiRJi5/BajKdC7yrqj5XVd8F3sjgLM0KgKr631X1jap6pKr+J7AfMBxaPlVVH6uq7zMIDM+da8AkPw08Hbi8qjYCXwZ+aUa3K6tqY1V9B7gS+E5VvaeN80Fg+ozVSQxCxkVV9b2quh64GjhnF47BRVX1cFXdDdzAIEj29J+BP2+P5/tVtY7BcXzeUJ+Lq+reqvqXobZLquqBVtffAp+uqttan6v44TGQJD0BGawm048zOEsFQFVtB74BHAmQ5HVJ7kyyrU2HHcTgrNG0rw8tfxvYf8aZmNmsAT5ZVQ+09fczYzoQuH9o+V9mWV86VP89VfWDoe1fna5/nmY+hqWP1XE3PR347TYN+HA7jk/l0TXeM8ufm+8xkCQ9AXnx+mS6l8EbPwBJDmAwHfW1dj3VG4BTgDuq6gdJHgKyu4MleTKD6bZ9kkwHmv2AZUmeW1Vf2I36j07yI0Ph6mnAP7TlbwFPGer/Y7uw79rFWh7LPcA17YzfQo8lSXqC8IzVZNg3yf7TN+By4JVJjm9fe/A/gJuqajNwIPAI8E/AkiS/B+zpBdNnAd9ncN3Q8e12LPA3DK672lU3MQhPr0+yb5JVwL/nh9eJ3QL8hyRPSfIs4IJd2Pf9wFFJnrQbdQ1bB/xGkpXtwvilSc5I8pQ5/6QkSY/BYDUZPsZgGmn69jPAfwM+DNwH/BsGF0oDfAL4OIOzP18FvsPsU1a7Yg3wl1V1d1V9ffrG4KL3c+cxjfgoVfU9BhfQnwY8wOAi8fOq6outy8XA9xiEpMsYXCw/X9cDdwBfT/LAXJ0fp8ZPA/8VeAfwMIPj+Ut4lkqStAdS5fuIJElSD56xkiRJ6sRg9QSR5GlDP+ky8/a0cde3u4a+rHPm7dxx1yZJeuJxKlCSJKmTifi6hcMOO6xWrFixU/u3vvUtDjjggNEX1IG1j4e1j8d07Rs3bnygqp467nokaVwmIlitWLGCm2++eaf2qakpVq1aNfqCOrD28bD28ZiuPclX5+4tSXsvr7GSJEnqxGAlSZLUicFKkiSpE4OVJElSJwYrSZKkTgxWkiRJnRisJEmSOjFYSZIkdWKwkiRJ6mQivnldWoxWrL1mx/Lmi146xkokSZPCM1aSJEmdzCtYJdmc5LYktyS5ubUdkuTaJHe1+4Nbe5K8JcmmJLcmOXEhH4AkSdKk2JUzVqur6viqWtnW1wLXVdUxwHVtHeA04Jh2uxB4W69iJUmSJtmeTAWeCVzWli8Dzhpqf08N3AgsS3LEHowjSZK0KKSq5u6U/CPwEFDAO6pqXZKHq2rZUJ+HqurgJFcDF1XVp1r7dcAbqurmGfu8kMEZLZYvX/689evX7zTu9u3bWbp06e4/ujGy9vEYZe23fW3bjuXnHHnQHu9vbzjuq1ev3jh0VluSnnDm+6nAF1XVvUkOB65N8sXH6ZtZ2nZKb1W1DlgHsHLlylq1atVOf2hqaorZ2hcDax+PUdZ+/vCnAs/d8zE97pK0+M1rKrCq7m33W4ErgecD909P8bX7ra37FuDooT9+FHBvr4IlSZIm1ZzBKskBSQ6cXgZeAtwObADWtG5rgKva8gbgvPbpwJOAbVV1X/fKJUmSJsx8pgKXA1cmme7//qr6qySfBS5PcgFwN/CK1v9jwOnAJuDbwCu7Vy1JkjSB5gxWVfUV4LmztH8DOGWW9gJe3aU6SZKkRcRvXpckSerEYCVJktSJwUqSJKkTg5UkSVInBitJkqRODFaSJEmdGKwkSZI6MVhJkiR1YrCSJEnqxGAlSZLUicFKkiSpE4OVJElSJwYrSZKkTgxWkiRJnRisJEmSOjFYSZIkdWKwkiRJ6sRgJUmS1InBSpIkqRODlSRJUicGK0mSpE4MVpIkSZ0YrCRJkjoxWEmSJHVisJIkSerEYCVJktSJwUqSJKkTg5UkSVInBitJkqRODFaSJEmdGKwkSZI6MVhJkiR1YrCSJEnqZN7BKsk+ST6f5Oq2/owkNyW5K8kHkzypte/X1je17SsWpnRJkqTJsitnrF4D3Dm0/ibg4qo6BngIuKC1XwA8VFXPAi5u/SRJkvZ68wpWSY4CXgq8s60HOBm4onW5DDirLZ/Z1mnbT2n9JUmS9mqpqrk7JVcAfwIcCPwWcD5wYzsrRZKjgY9X1U8muR04taq2tG1fBl5QVQ/M2OeFwIUAy5cvf9769et3Gnf79u0sXbp09x/dGFn7eIyy9tu+tm3H8nOOPGiP97c3HPfVq1dvrKqV465HksZlyVwdkrwM2FpVG5Osmm6epWvNY9sPG6rWAesAVq5cWatWrZrZhampKWZrXwysfTxGWfv5a6/Zsbz53D0f0+MuSYvfnMEKeBFwRpLTgf2BHwUuAZYlWVJVjwBHAfe2/luAo4EtSZYABwEPdq9ckiRpwsx5jVVVvbGqjqqqFcDZwPVVdS5wA/Dy1m0NcFVb3tDWaduvr/nMN0qSJC1ye/I9Vm8AXptkE3AocGlrvxQ4tLW/Fli7ZyVKkiQtDvOZCtyhqqaAqbb8FeD5s/T5DvCKDrVJkiQtKn7zuiRJUicGK0mSpE4MVpIkSZ0YrCRJkjoxWEmSJHVisJIkSerEYCVJktSJwUqSJKkTg5UkSVInBitJkqRODFaSJEmdGKwkSZI6MVhJkiR1YrCSJEnqxGAlSZLUicFKkiSpE4OVJElSJwYrSZKkTgxWkiRJnRisJEmSOjFYSZIkdWKwkiRJ6sRgJUmS1InBSpIkqRODlSRJUicGK0mSpE4MVpIkSZ0YrCRJkjoxWEmSJHVisJIkSerEYCVJktSJwUqSJKkTg5UkSVIncwarJPsn+UySLyS5I8kftvZnJLkpyV1JPpjkSa19v7a+qW1fsbAPQZIkaTLM54zVd4GTq+q5wPHAqUlOAt4EXFxVxwAPARe0/hcAD1XVs4CLWz9JkqS93pzBqga2t9V9262Ak4ErWvtlwFlt+cy2Ttt+SpJ0q1iSJGlCparm7pTsA2wEngW8Ffgz4MZ2VookRwMfr6qfTHI7cGpVbWnbvgy8oKoemLHPC4ELAZYvX/689evX7zTu9u3bWbp06R48vPGx9vEYZe23fW3bjuXnHHnQHu9vbzjuq1ev3lhVK8ddjySNy5L5dKqq7wPHJ1kGXAkcO1u3dj/b2amd0ltVrQPWAaxcubJWrVq10x+amppitvbFwNrHY5S1n7/2mh3Lm8/d8zE97pK0+O3SpwKr6mFgCjgJWJZkOpgdBdzblrcARwO07QcBD/YoVpIkaZLN51OBT21nqkjyZODFwJ3ADcDLW7c1wFVteUNbp22/vuYz3yhJkrTIzWcq8Ajgsnad1Y8Al1fV1Un+Hlif5L8Dnwcubf0vBd6bZBODM1VnL0DdkiRJE2fOYFVVtwInzNL+FeD5s7R/B3hFl+okSZIWEb95XZIkqRODlSRJUicGK0mSpE4MVpIkSZ0YrCRJkjoxWEmSJHVisJIkSerEYCVJktSJwUqSJKkTg5UkSVInBitJkqRODFaSJEmdGKwkSZI6MVhJkiR1YrCSJEnqxGAlSZLUicFKkiSpE4OVJElSJwYrSZKkTgxWkiRJnRisJEmSOjFYSZIkdWKwkiRJ6sRgJUmS1InBSpIkqRODlSRJUicGK0mSpE4MVpIkSZ0YrCRJkjoxWEmSJHVisJIkSerEYCVJktSJwUqSJKmTOYNVkqOT3JDkziR3JHlNaz8kybVJ7mr3B7f2JHlLkk1Jbk1y4kI/CEmSpEkwnzNWjwCvq6pjgZOAVyc5DlgLXFdVxwDXtXWA04Bj2u1C4G3dq5YkSZpAcwarqrqvqj7Xlv8ZuBM4EjgTuKx1uww4qy2fCbynBm4EliU5onvlkiRJE2aXrrFKsgI4AbgJWF5V98EgfAGHt25HAvcM/bEtrU2SJGmvlqqaX8dkKfD/gD+uqo8kebiqlg1tf6iqDk5yDfAnVfWp1n4d8Pqq2jhjfxcymCpk+fLlz1u/fv1OY27fvp2lS5fu5kMbL2sfj1HWftvXtu1Yfs6RB+3x/vaG47569eqNVbVy3PVI0rgsmU+nJPsCHwbeV1Ufac33Jzmiqu5rU31bW/sW4OihP34UcO/MfVbVOmAdwMqVK2vVqlU7jTs1NcVs7YuBtY/HKGs/f+01O5Y3n7vnY3rcJWnxm8+nAgNcCtxZVW8e2rQBWNOW1wBXDbWf1z4deBKwbXrKUJIkaW82nzNWLwJ+BbgtyS2t7beBi4DLk1wA3A28om37GHA6sAn4NvDKrhVLkiRNqDmDVbtWKo+x+ZRZ+hfw6j2sS5IkadHxm9clSZI6MVhJkiR1YrCSJEnqxGAlSZLUicFKkiSpE4OVJElSJwYrSZKkTgxWkiRJnRisJEmSOjFYSZIkdWKwkiRJ6sRgJUmS1InBSpIkqRODlSRJUicGK0mSpE4MVpIkSZ0YrCRJkjoxWEmSJHVisJIkSerEYCVJktSJwUqSJKkTg5UkSVInBitJkqRODFaSJEmdGKwkSZI6MVhJkiR1YrCSJEnqxGAlSZLUicFKkiSpE4OVJElSJwYrSZKkTgxWkiRJnRisJEmSOpkzWCV5V5KtSW4fajskybVJ7mr3B7f2JHlLkk1Jbk1y4kIWL0mSNEnmc8bq3cCpM9rWAtdV1THAdW0d4DTgmHa7EHhbnzIlSZIm35zBqqr+GnhwRvOZwGVt+TLgrKH299TAjcCyJEf0KlaSJGmS7e41Vsur6j6Adn94az8SuGeo35bWJkmStNdb0nl/maWtZu2YXMhgupDly5czNTW1U5/t27fP2r4YWPt4jLL21z3nkR3LPcb0uEvS4re7wer+JEdU1X1tqm9ra98CHD3U7yjg3tl2UFXrgHUAK1eurFWrVu3UZ2pqitnaFwNrH49R1n7+2mt2LG8+d8/H9LhL0uK3u1OBG4A1bXkNcNVQ+3nt04EnAdumpwwlSZL2dnOesUryAWAVcFiSLcDvAxcBlye5ALgbeEXr/jHgdGAT8G3glQtQsyRJ0kSaM1hV1TmPsemUWfoW8Oo9LUqSJGkx8pvXJUmSOjFYSZIkdWKwkiRJ6sRgJUmS1InBSpIkqRODlSRJUicGK0mSpE4MVpIkSZ0YrCRJkjoxWEmSJHVisJIkSerEYCVJktSJwUqSJKkTg5UkSVInBitJkqRODFaSJEmdGKwkSZI6MVhJkiR1smTcBWjhrVh7zY7lzRe9dIyVSJK0d/OMlSRJUicGK0mSpE4MVpIkSZ0YrCRJkjoxWEmSJHVisJIkSerEYCVJktSJwUqSJKkTg5UkSVInBitJkqRODFaSJEmdGKwkzWrF2mse9TuTkqS5Gay011ix9hpu+9q2cZchSXoCM1hJkiR1YrCSJEnqZMGCVZJTk3wpyaYkaxdqHEmSpEmxZCF2mmQf4K3AzwFbgM8m2VBVf78Q443a8AW9my966RgrmVzTx8jjI0l6IlmoM1bPBzZV1Veq6nvAeuDMHjvelU8qLVTfXvzUlSRJe5dUVf+dJi8HTq2qX23rvwK8oKp+fajPhcCFbfXZwJdm2dVhwAPdCxwNax8Pax+P6dqfXlVPHXcxkjQuCzIVCGSWtkcluKpaB6x73J0kN1fVyp6FjYq1j4e1j8dirl2SelqoqcAtwNFD60cB9y7QWJIkSRNhoYLVZ4FjkjwjyZOAs4ENCzSWJEnSRFiQqcCqeiTJrwOfAPYB3lVVd+zGrh53qnDCWft4WPt4LObaJambBbl4XZIk6YnIb16XJEnqxGAlSZLUyUQGq0n/OZwk70qyNcntQ22HJLk2yV3t/uDWniRvaY/l1iQnjq9ySHJ0khuS3JnkjiSvWSz1J9k/yWeSfKHV/oet/RlJbmq1f7B9YIIk+7X1TW37inHVPi3JPkk+n+Tqtr6Yat+c5LYktyS5ubVN/OtGkkZp4oLV0M/hnAYcB5yT5LjxVrWTdwOnzmhbC1xXVccA17V1GDyOY9rtQuBtI6rxsTwCvK6qjgVOAl7dju9iqP+7wMlV9VzgeODUJCcBbwIubrU/BFzQ+l8APFRVzwIubv3G7TXAnUPri6l2gNVVdfzQd1YthteNJI3MxAUrFvDncHqpqr8GHpzRfCZwWVu+DDhrqP09NXAjsCzJEaOpdGdVdV9Vfa4t/zODN/kjWQT1txq2t9V9262Ak4ErWvvM2qcf0xXAKUlm+/LakUhyFPBS4J1tPSyS2h/HxL9uJGmUJjFYHQncM7S+pbVNuuVVdR8MwgtweGuf2MfTppdOAG5ikdTfptJuAbYC1wJfBh6uqkdmqW9H7W37NuDQ0Vb8KJcArwd+0NYPZfHUDoMQ+8kkG9tPUsEied1I0qgs1E/a7Ik5fw5nkZnIx5NkKfBh4Der6puPczJkouqvqu8DxydZBlwJHDtbt3Y/MbUneRmwtao2Jlk13TxL14mrfciLqureJIcD1yb54uP0ncT6JWnBTeIZq8X6czj3T091tPutrX3iHk+SfRmEqvdV1Uda86KpH6CqHgamGFwntizJ9H8ShuvbUXvbfhA7T+GOyouAM5JsZjC9fTKDM1iLoXYAquredr+VQah9PovsdSNJC20Sg9Vi/TmcDcCatrwGuGqo/bz2KamTgG3TUyfj0K7TuRS4s6rePLRp4utP8tR2pookTwZezOAasRuAl7duM2uffkwvB66vMX0jblW9saqOqqoVDF7T11fVuSyC2gGSHJDkwOll4CXA7SyC140kjdJEfvN6ktMZ/G9++udw/njMJT1Kkg8Aq4DDgPuB3wc+ClwOPA24G3hFVT3YgsyfM/gU4beBV1bVzeOoGyDJTwN/A9zGD6/1+W0G11lNdP1JforBBdL7MPhPweVV9UdJnsngLNAhwOeBX66q7ybZH3gvg+vIHgTOrqqvjKP2YW0q8Leq6mWLpfZW55VtdQnw/qr64ySHMuGvG0kapYkMVpIkSYvRJE4FSpIkLUoGK0mSpE4MVpIkSZ0YrCRJkjoxWEmSJHVisJIkSerEYCVJktTJ/weRmKstvZe6cwAAAABJRU5ErkJggg==\n",
      "text/plain": [
       "<Figure size 720x1080 with 6 Axes>"
      ]
     },
     "metadata": {
      "needs_background": "light"
     },
     "output_type": "display_data"
    }
   ],
   "source": [
    "%matplotlib inline\n",
    "df.hist(bins=100,figsize=(10,15))\n",
    "\n"
   ]
  },
  {
   "cell_type": "markdown",
   "metadata": {},
   "source": [
    "# From the above histograms it can be seen that there are some extreme values and for that reason to make it clear we are using boxplot to find out the outliers and their position"
   ]
  },
  {
   "cell_type": "code",
   "execution_count": 158,
   "metadata": {},
   "outputs": [
    {
     "data": {
      "text/plain": [
       "<matplotlib.axes._subplots.AxesSubplot at 0xaa81374c8>"
      ]
     },
     "execution_count": 158,
     "metadata": {},
     "output_type": "execute_result"
    },
    {
     "data": {
      "image/png": "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\n",
      "text/plain": [
       "<Figure size 432x288 with 1 Axes>"
      ]
     },
     "metadata": {
      "needs_background": "light"
     },
     "output_type": "display_data"
    }
   ],
   "source": [
    "df.boxplot(column='ApplicantIncome')"
   ]
  },
  {
   "cell_type": "code",
   "execution_count": 159,
   "metadata": {},
   "outputs": [
    {
     "data": {
      "text/plain": [
       "<matplotlib.axes._subplots.AxesSubplot at 0xaa7d71d08>"
      ]
     },
     "execution_count": 159,
     "metadata": {},
     "output_type": "execute_result"
    },
    {
     "data": {
      "image/png": "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\n",
      "text/plain": [
       "<Figure size 432x288 with 1 Axes>"
      ]
     },
     "metadata": {
      "needs_background": "light"
     },
     "output_type": "display_data"
    }
   ],
   "source": [
    "df.boxplot(column='ApplicantIncome', by = 'Education')"
   ]
  },
  {
   "cell_type": "code",
   "execution_count": 160,
   "metadata": {},
   "outputs": [
    {
     "data": {
      "text/plain": [
       "<matplotlib.axes._subplots.AxesSubplot at 0xaa7de5088>"
      ]
     },
     "execution_count": 160,
     "metadata": {},
     "output_type": "execute_result"
    },
    {
     "data": {
      "image/png": "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\n",
      "text/plain": [
       "<Figure size 432x288 with 1 Axes>"
      ]
     },
     "metadata": {
      "needs_background": "light"
     },
     "output_type": "display_data"
    }
   ],
   "source": [
    "df.boxplot(column='LoanAmount')"
   ]
  },
  {
   "cell_type": "markdown",
   "metadata": {},
   "source": [
    "# Dealing with categorical Values"
   ]
  },
  {
   "cell_type": "code",
   "execution_count": 161,
   "metadata": {},
   "outputs": [
    {
     "name": "stdout",
     "output_type": "stream",
     "text": [
      "1.0    475\n",
      "0.0     89\n",
      "Name: Credit_History, dtype: int64\n"
     ]
    }
   ],
   "source": [
    "freq_count_credit_history=df['Credit_History'].value_counts() #frequency count of credit history\n",
    "print(freq_count_credit_history)"
   ]
  },
  {
   "cell_type": "code",
   "execution_count": 162,
   "metadata": {},
   "outputs": [
    {
     "name": "stdout",
     "output_type": "stream",
     "text": [
      "Probability of getting loan by credit history\n",
      "                 Loan_Status\n",
      "Credit_History             \n",
      "0.0                0.078652\n",
      "1.0                0.795789\n"
     ]
    }
   ],
   "source": [
    "#pivot table \n",
    "table1= pd.pivot_table(df, values='Loan_Status', index='Credit_History', aggfunc=lambda x: x.map({'Y':1,'N':0}).mean())\n",
    "print('Probability of getting loan by credit history\\n',table1)"
   ]
  },
  {
   "cell_type": "markdown",
   "metadata": {},
   "source": [
    "# Subplot"
   ]
  },
  {
   "cell_type": "code",
   "execution_count": 163,
   "metadata": {},
   "outputs": [
    {
     "data": {
      "text/plain": [
       "<matplotlib.axes._subplots.AxesSubplot at 0xaa7f2d688>"
      ]
     },
     "execution_count": 163,
     "metadata": {},
     "output_type": "execute_result"
    },
    {
     "data": {
      "image/png": "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\n",
      "text/plain": [
       "<Figure size 576x288 with 2 Axes>"
      ]
     },
     "metadata": {
      "needs_background": "light"
     },
     "output_type": "display_data"
    },
    {
     "data": {
      "image/png": "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\n",
      "text/plain": [
       "<Figure size 432x288 with 1 Axes>"
      ]
     },
     "metadata": {
      "needs_background": "light"
     },
     "output_type": "display_data"
    }
   ],
   "source": [
    "\n",
    "fig= plt.figure(figsize=(8,4)) \n",
    "ax1 = fig.add_subplot(121) \n",
    "ax1.set_xlabel('Credit_History') \n",
    "ax1.set_ylabel('Count of Applicants') \n",
    "ax1.set_title(\"Applicants by Credit_History\") \n",
    "freq_count_credit_history.plot(kind='bar') \n",
    "ax2 = fig.add_subplot(122) \n",
    " \n",
    "ax2.set_xlabel('Credit_History') \n",
    "ax2.set_ylabel('Probability of getting loan') \n",
    "ax2.set_title(\"Probability of getting loan by credit history\")\n",
    "table1.plot(kind = 'bar')"
   ]
  },
  {
   "cell_type": "markdown",
   "metadata": {},
   "source": [
    "# Crosstab"
   ]
  },
  {
   "cell_type": "code",
   "execution_count": 164,
   "metadata": {},
   "outputs": [
    {
     "name": "stdout",
     "output_type": "stream",
     "text": [
      "Loan_Status      N    Y\n",
      "Credit_History         \n",
      "0.0             82    7\n",
      "1.0             97  378\n"
     ]
    },
    {
     "data": {
      "image/png": "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\n",
      "text/plain": [
       "<Figure size 432x288 with 1 Axes>"
      ]
     },
     "metadata": {
      "needs_background": "light"
     },
     "output_type": "display_data"
    }
   ],
   "source": [
    "temp3 = pd.crosstab(df['Credit_History'], df['Loan_Status']) \n",
    "temp3.plot(kind='bar', stacked=True, color=['red','blue'], grid=False)\n",
    "print(temp3)"
   ]
  },
  {
   "cell_type": "code",
   "execution_count": 165,
   "metadata": {},
   "outputs": [
    {
     "name": "stdout",
     "output_type": "stream",
     "text": [
      "Probability of getting loan by credit history and Gender\n",
      " Gender            Female      Male\n",
      "Credit_History                    \n",
      "0.0             0.058824  0.086957\n",
      "1.0             0.761905  0.803665\n"
     ]
    }
   ],
   "source": [
    "table2= pd.pivot_table(df, values='Loan_Status', index='Credit_History', columns=['Gender'], aggfunc=lambda x: x.map({'Y':1,'N':0}).mean())\n",
    "print('Probability of getting loan by credit history and Gender\\n',table2)"
   ]
  },
  {
   "cell_type": "code",
   "execution_count": 166,
   "metadata": {},
   "outputs": [
    {
     "data": {
      "text/plain": [
       "<matplotlib.axes._subplots.AxesSubplot at 0xaa84be648>"
      ]
     },
     "execution_count": 166,
     "metadata": {},
     "output_type": "execute_result"
    },
    {
     "data": {
      "image/png": "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\n",
      "text/plain": [
       "<Figure size 576x288 with 2 Axes>"
      ]
     },
     "metadata": {
      "needs_background": "light"
     },
     "output_type": "display_data"
    },
    {
     "data": {
      "image/png": "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\n",
      "text/plain": [
       "<Figure size 432x288 with 1 Axes>"
      ]
     },
     "metadata": {
      "needs_background": "light"
     },
     "output_type": "display_data"
    },
    {
     "data": {
      "image/png": "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\n",
      "text/plain": [
       "<Figure size 432x288 with 1 Axes>"
      ]
     },
     "metadata": {
      "needs_background": "light"
     },
     "output_type": "display_data"
    }
   ],
   "source": [
    "\n",
    
     "fig, (ax1,ax2) = plt.subplots(nrows=1,ncols=2, figsize=(8,4), sharey=True)\n"

     "ax1.hist(freq_count_credit_history)\n"
     "ax1.set_xlabel('Credit_History')\n"
     "ax1.set_ylabel('Count of Applicants')\n"
     "ax1.set_title('Applicants by Credit_History')\n "



     "ax2.set_xlabel('Credit_History')\n "
     "ax2.set_ylabel('Probability of getting loan')\n "
     "ax2.set_title('Probability of getting loan by credit history')\n"
     "ax2.hist(table1)"
   ]
  },
  {
   "cell_type": "markdown",
   "metadata": {},
   "source": [
    "# Data munging\n",
    "## Missing Values counting and  handing"
   ]
  },
  {
   "cell_type": "code",
   "execution_count": 167,
   "metadata": {},
   "outputs": [
    {
     "data": {
      "text/plain": [
       "Loan_ID               0\n",
       "Gender               13\n",
       "Married               3\n",
       "Dependents           15\n",
       "Education             0\n",
       "Self_Employed        32\n",
       "ApplicantIncome       0\n",
       "CoapplicantIncome     0\n",
       "LoanAmount           22\n",
       "Loan_Amount_Term     14\n",
       "Credit_History       50\n",
       "Property_Area         0\n",
       "Loan_Status           0\n",
       "dtype: int64"
      ]
     },
     "execution_count": 167,
     "metadata": {},
     "output_type": "execute_result"
    }
   ],
   "source": [
    "df.apply(lambda x: sum(x.isnull()), axis=0)"
   ]
  },
  {
   "cell_type": "code",
   "execution_count": 168,
   "metadata": {},
   "outputs": [
    {
     "data": {
      "text/plain": [
       "<matplotlib.axes._subplots.AxesSubplot at 0xaa7a94588>"
      ]
     },
     "execution_count": 168,
     "metadata": {},
     "output_type": "execute_result"
    },
    {
     "data": {
      "image/png": "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\n",
      "text/plain": [
       "<Figure size 432x288 with 1 Axes>"
      ]
     },
     "metadata": {
      "needs_background": "light"
     },
     "output_type": "display_data"
    }
   ],
   "source": [
    "df.boxplot(column='LoanAmount', by = ['Education', 'Self_Employed'])"
   ]
  },
  {
   "cell_type": "code",
   "execution_count": 169,
   "metadata": {},
   "outputs": [
    {
     "name": "stdout",
     "output_type": "stream",
     "text": [
      "No     500\n",
      "Yes     82\n",
      "Name: Self_Employed, dtype: int64\n",
      "Education      Graduate  Not Graduate\n",
      "Self_Employed                        \n",
      "No                130.0         113.0\n",
      "Yes               157.5         130.0\n"
     ]
    }
   ],
   "source": [
    "###we are filing the missing values of loan amount by detecting \n",
    "###whether a person is educated or self-employed can combine to give a good estimate of loan amount\n",
    "### we calculating the median value of loan amount is given to the particular group\n",
    "##but before that we have to fill the missing values of self employed columns\n",
    "\n",
    "print(df['Self_Employed'].value_counts())\n",
    "df['Self_Employed'].fillna('No',inplace=True)\n",
    "\n",
    "\n",
    "table = df.pivot_table(values='LoanAmount', index='Self_Employed' ,columns='Education', aggfunc=np.median) \n",
    "print(table)"
   ]
  },
  {
   "cell_type": "code",
   "execution_count": 170,
   "metadata": {},
   "outputs": [
    {
     "name": "stderr",
     "output_type": "stream",
     "text": [
      "C:\\ProgramData\\Anaconda3\\lib\\site-packages\\ipykernel_launcher.py:6: SettingWithCopyWarning: \n",
      "A value is trying to be set on a copy of a slice from a DataFrame\n",
      "\n",
      "See the caveats in the documentation: http://pandas.pydata.org/pandas-docs/stable/user_guide/indexing.html#returning-a-view-versus-a-copy\n",
      "  \n"
     ]
    }
   ],
   "source": [
    "\n",
    "##we define a function, which returns the values of the cells of pivot table abpve and apply it to fill the missing values of loan amount:\n",
    "def fage(x): \n",
    "    \n",
    "    return table.loc[x['Self_Employed'],x['Education']] \n",
    "# Replace missing values\n",
    "df['LoanAmount'][df['LoanAmount'].isnull()] = df[df['LoanAmount'].isnull()].apply(fage, axis=1)"
   ]
  },
  {
   "cell_type": "markdown",
   "metadata": {},
   "source": [
    "# Log Transformation\n",
    "## Log transformation is used to make the skewd data normal\n",
    "### Loan amount columns contains so much outleirs , instead of treating them as outliers we just nullify them by using log transformaion"
   ]
  },
  {
   "cell_type": "code",
   "execution_count": 171,
   "metadata": {},
   "outputs": [],
   "source": [
    "df['LoanAmount_log'] = np.log(df['LoanAmount']) \n"
   ]
  },
  {
   "cell_type": "code",
   "execution_count": 182,
   "metadata": {},
   "outputs": [
    {
     "data": {
      "text/plain": [
       "<matplotlib.axes._subplots.AxesSubplot at 0xaad720d88>"
      ]
     },
     "execution_count": 182,
     "metadata": {},
     "output_type": "execute_result"
    },
    {
     "data": {
      "image/png": "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\n",
      "text/plain": [
       "<Figure size 720x360 with 2 Axes>"
      ]
     },
     "metadata": {
      "needs_background": "light"
     },
     "output_type": "display_data"
    }
   ],
   "source": [
    "fig=plt.figure(figsize=(10,5))\n",
    "ax1=fig.add_subplot(131)\n",
    "ax1.set_title(\"Before LOG Transformation\")\n",
    "df['LoanAmount'].hist(bins=20)\n",
    "\n",
    "ax2=fig.add_subplot(133)\n",
    "\n",
    "ax2.set_title(\"After LOG Transformation\")\n",
    "df['LoanAmount_log'].hist(bins=20)"
   ]
  },
  {
   "cell_type": "markdown",
   "metadata": {},
   "source": [
    "### One intuition can be that some applicants have lower income but strong support Co-applicants. So it might be a good idea to combine both incomes as total income and take a log transformation of the same."
   ]
  },
  {
   "cell_type": "code",
   "execution_count": 183,
   "metadata": {},
   "outputs": [
    {
     "data": {
      "text/plain": [
       "<matplotlib.axes._subplots.AxesSubplot at 0xaecf61a08>"
      ]
     },
     "execution_count": 183,
     "metadata": {},
     "output_type": "execute_result"
    },
    {
     "data": {
      "image/png": "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\n",
      "text/plain": [
       "<Figure size 432x288 with 1 Axes>"
      ]
     },
     "metadata": {
      "needs_background": "light"
     },
     "output_type": "display_data"
    }
   ],
   "source": [
    "df['TotalIncome'] = df['ApplicantIncome'] + df['CoapplicantIncome'] \n",
    "df['TotalIncome_log'] = np.log(df['TotalIncome']) \n",
    "df['TotalIncome_log'].hist(bins=20) "
   ]
  },
  {
   "cell_type": "code",
   "execution_count": null,
   "metadata": {},
   "outputs": [],
   "source": []
  }
 ],
 "metadata": {
  "kernelspec": {
   "display_name": "Python 3",
   "language": "python",
   "name": "python3"
  },
  "language_info": {
   "codemirror_mode": {
    "name": "ipython",
    "version": 3
   },
   "file_extension": ".py",
   "mimetype": "text/x-python",
   "name": "python",
   "nbconvert_exporter": "python",
   "pygments_lexer": "ipython3",
   "version": "3.7.4"
  }
 },
 "nbformat": 4,
 "nbformat_minor": 2
}
